{
  "nbformat": 4,
  "nbformat_minor": 0,
  "metadata": {
    "colab": {
      "provenance": [],
      "collapsed_sections": [
        "k_Jw-OrfM5e9",
        "xDBv161WANsX"
      ],
      "mount_file_id": "14gJYQXUqKn_l_LjPK9OZYm_B1Lve0PQz",
      "authorship_tag": "ABX9TyMFxfGTEBtkRWFxvUdFJINH",
      "include_colab_link": true
    },
    "kernelspec": {
      "name": "python3",
      "display_name": "Python 3"
    },
    "language_info": {
      "name": "python"
    },
    "accelerator": "GPU"
  },
  "cells": [
    {
      "cell_type": "markdown",
      "metadata": {
        "id": "view-in-github",
        "colab_type": "text"
      },
      "source": [
        "<a href=\"https://colab.research.google.com/github/mattshu0410/Peripheral-Blood-Deep-Learning/blob/main/YOLOv5_Crop_Out_WBC_.ipynb\" target=\"_parent\"><img src=\"https://colab.research.google.com/assets/colab-badge.svg\" alt=\"Open In Colab\"/></a>"
      ]
    },
    {
      "cell_type": "code",
      "source": [
        "import pandas as pd\n",
        "import PIL\n",
        "import numpy as np\n",
        "import os\n",
        "import ast\n",
        "import matplotlib.pyplot as plt"
      ],
      "metadata": {
        "id": "d4dNuwXMEEUO"
      },
      "execution_count": null,
      "outputs": []
    },
    {
      "cell_type": "markdown",
      "source": [
        "# Crop out BCCD WBC w/ YOLOv5s\n",
        "\n",
        "This section aims to cut out all WBC out of the BCCD dataset using YOLOv5. This can then be categorised into WBC types by a hematologist. This will then be used as an independent test set to assess the effectiveness of the WBC classifier trained on the WBC dataset from Acevedo et. al."
      ],
      "metadata": {
        "id": "C1ajjFWcrlAm"
      }
    },
    {
      "cell_type": "code",
      "execution_count": null,
      "metadata": {
        "id": "p_siMhu3pT2d"
      },
      "outputs": [],
      "source": [
        "# Gathers BCCD dataset\n",
        "!git clone 'https://github.com/Shenggan/BCCD_Dataset.git'"
      ]
    },
    {
      "cell_type": "code",
      "source": [
        "# Install dependencies for YOLOv5\n",
        "!pip install -r https://raw.githubusercontent.com/ultralytics/yolov5/master/requirements.txt"
      ],
      "metadata": {
        "id": "Rw-ndqAvuE8F"
      },
      "execution_count": null,
      "outputs": []
    },
    {
      "cell_type": "code",
      "source": [
        "# Clones repository containing models from Git Repo: https://github.com/ultralytics/yolov5\n",
        "!git clone  'https://github.com/ultralytics/yolov5.git'"
      ],
      "metadata": {
        "id": "p2bT2bBOuxQy"
      },
      "execution_count": null,
      "outputs": []
    },
    {
      "cell_type": "code",
      "source": [
        "# Runs YOLOv5s and stores all annotations as text\n",
        "!python /content/yolov5/detect.py --source /content/BCCD_Dataset/BCCD/JPEGImages --weights \"/content/4-01-2022-artemis.pt\" --save-txt "
      ],
      "metadata": {
        "id": "q2tPxGcpu8bI"
      },
      "execution_count": null,
      "outputs": []
    },
    {
      "cell_type": "code",
      "source": [
        "# Function that cropps out all white blood cells for a particular image, takes a list of dictionaries i.e. records\n",
        "# e.g. [{'category_id': 2, 'x': 0.414062, 'y': 0.459375, 'w': 0.28125, 'h': 0.385417, 'image_id': 'BloodImage_00300'}, {...}, {...}]\n",
        "def image_crop(bbox_dict, export_path):\n",
        "  image_id = bbox_dict[0]['image_id']\n",
        "  image = PIL.Image.open(f'/content/BCCD_Dataset/BCCD/JPEGImages/{image_id}.jpg')\n",
        "  for i, bbox in enumerate(bbox_dict):\n",
        "    image_w, image_h = image.size\n",
        "    image_array = np.array(image)\n",
        "    x,y,w,h = int(bbox_dict[i]['x']*image_w), int(bbox_dict[i]['y']*image_h), int(bbox_dict[i]['w']*image_w), int(bbox_dict[i]['h']*image_h)\n",
        "    w=h=max(w,h) # We want square crops that include the whole WBC\n",
        "    x_i, x_f, y_i, y_f  = x-w/2, x+w/2, y-h/2, y+h/2\n",
        "    # If a square bounding box reaches outside the image, this will shift the limits back into the image\n",
        "    if x_i<0:\n",
        "      x_f = x_f-x_i\n",
        "      x_i = 0\n",
        "    if x_f>image_w:\n",
        "      x_i = x_i-(x_f-image_w)\n",
        "      x_f = image_w\n",
        "    if y_i<0:\n",
        "      y_f = y_f-y_i\n",
        "      y_i = 0\n",
        "    if y_f>image_h:\n",
        "      y_i = y_i-(y_f-image_h)\n",
        "      y_f = image_h\n",
        "    crop_img=image_array[int(y_i):int(y_f), int(x_i):int(x_f)]\n",
        "    try:\n",
        "      im = PIL.Image.fromarray(crop_img)\n",
        "      im = im.resize((224,224))\n",
        "      im.save(os.path.join(export_path, f'{image_id}_{i}.png')) # File naming is {image_id} + {i}th WBC cropped\n",
        "    except:\n",
        "      print(f'{image_id} was omitted')\n",
        "\n"
      ],
      "metadata": {
        "id": "YxtjPhGUGmIP"
      },
      "execution_count": null,
      "outputs": []
    },
    {
      "cell_type": "code",
      "source": [
        "\n",
        "label_path = '/content/yolov5/runs/detect/exp/labels/'\n",
        "export_path = '/content/BCCD_cropped_wbc/'\n",
        "wbc=[]\n",
        "\n",
        "# Extracts all bounding boxes that are white blood cells\n",
        "for filename in os.listdir(label_path):\n",
        "  with open(os.path.join(label_path, filename)) as file:\n",
        "    # Creates a dataframe with all the bounding boxes found in this image\n",
        "    df = pd.read_csv(file, \n",
        "                     delim_whitespace=True, \n",
        "                     header = None,\n",
        "                     names =['category_id', 'x', 'y', 'w', 'h'])\n",
        "    df['image_id'] = filename.rstrip('.txt')\n",
        "    # Adds to a list of dictionaries containing all WBC across all images\n",
        "    wbc += df[df.category_id == 2].to_dict('records')\n"
      ],
      "metadata": {
        "id": "lyr4n19Lvujt"
      },
      "execution_count": null,
      "outputs": []
    },
    {
      "cell_type": "code",
      "source": [
        "# Dataframe of image_id and \n",
        "wbc_df = pd.DataFrame.from_dict(wbc)\n",
        "\n",
        "# Runs crop on each image\n",
        "for image_id in set(wbc_df['image_id'].tolist()):\n",
        "  bbox_dict = wbc_df[wbc_df['image_id']==image_id].to_dict('records')\n",
        "  image_crop(bbox_dict)\n",
        "\n"
      ],
      "metadata": {
        "id": "p7OKp7g_DvdA"
      },
      "execution_count": null,
      "outputs": []
    },
    {
      "cell_type": "code",
      "source": [
        "!zip -r '/content/BCCD_cropped_wbc.zip' '/content/BCCD_cropped_wbc'"
      ],
      "metadata": {
        "id": "kOtEpjiP7-3x"
      },
      "execution_count": null,
      "outputs": []
    },
    {
      "cell_type": "markdown",
      "source": [
        "# Crop out Acevedo et. al. dataset WBC w/ YOLOv5s\n",
        "\n",
        "The following section aims to crop out all WBC from the data published by Acevedo et. al.\n",
        "\n",
        "Dataset: https://www.sciencedirect.com/science/article/pii/S2352340920303681\n",
        "\n"
      ],
      "metadata": {
        "id": "4ClB56i42RA3"
      }
    },
    {
      "cell_type": "code",
      "source": [
        "!unzip '/content/drive/MyDrive/Colab Notebooks/PBC_dataset_normal_DIB.zip'"
      ],
      "metadata": {
        "id": "5yCZIJdH3JUY"
      },
      "execution_count": null,
      "outputs": []
    },
    {
      "cell_type": "code",
      "source": [
        "!cp '/content/drive/MyDrive/Colab Notebooks/4-01-2022-artemis.pt' '/content'"
      ],
      "metadata": {
        "id": "OsJ1Rt2waGFQ"
      },
      "execution_count": null,
      "outputs": []
    },
    {
      "cell_type": "code",
      "source": [
        "# Runs YOLOv5s and stores all annotations as text\n",
        "wbc_type = ['basophil', 'eosinophil', 'erythroblast', 'ig', 'lymphocyte', 'monocyte', 'neutrophil', 'platelet']\n",
        "for wbc in wbc_type:\n",
        "  !python /content/yolov5/detect.py --source /content/PBC_dataset_normal_DIB/{wbc} --weights \"/content/4-01-2022-artemis.pt\" --save-txt --project runs/detect/{wbc} --classes 2 --nosave --exist-ok"
      ],
      "metadata": {
        "id": "ch_E-eZ53mGy"
      },
      "execution_count": null,
      "outputs": []
    },
    {
      "cell_type": "markdown",
      "source": [
        "## Cropping out Images (Size not Considered)\n",
        "\n",
        "In many cases the YOLOv5s object detection model manages to pick out WBC on the border of the image. However, given we are dealing with a clean dataset where each image's label corresponds to a single cell that is largest and closest to the centre, we will use this as our rule for choosing the primary bounding box to cut out. If both conditions are not met by a single bounding box we will call for a manual check."
      ],
      "metadata": {
        "id": "2C5IoxfaBvS8"
      }
    },
    {
      "cell_type": "code",
      "source": [
        "# Crops the main white blood cell from the image based on given bounding boxes from YOLOV5s\n",
        "def single_crop(bbox_dict, wbc):\n",
        "  image_id = bbox_dict[0]['image_id']\n",
        "  image = PIL.Image.open(f'/content/PBC_dataset_normal_DIB/{wbc}/{image_id}.jpg')\n",
        "  image_w, image_h = image.size\n",
        "  image_array = np.array(image)\n",
        "  main_bbox = {}\n",
        "  # YOLOV5s model detects multiple bounding boxes.\n",
        "  # This automatically chooses the main bounding box to be one with the largest size and closest to the centre\n",
        "  # It will throw a warning when either of these conditions are not met but will choose closest to the centre\n",
        "  if len(bbox_dict)==1:\n",
        "    i=0\n",
        "    x,y,w,h = int(bbox_dict[i]['x']*image_w), int(bbox_dict[i]['y']*image_h), int(bbox_dict[i]['w']*image_w), int(bbox_dict[i]['h']*image_h)\n",
        "    main_bbox = {\n",
        "          'x': x,\n",
        "          'y': y,\n",
        "          'w': w,\n",
        "          'h': h\n",
        "      }\n",
        "  else:\n",
        "    bboxes = {}\n",
        "    for i, bbox in enumerate(bbox_dict):\n",
        "      x,y,w,h = int(bbox_dict[i]['x']*image_w), int(bbox_dict[i]['y']*image_h), int(bbox_dict[i]['w']*image_w), int(bbox_dict[i]['h']*image_h)\n",
        "      bboxes[i] = {\n",
        "          'area': x*y,\n",
        "          'x_offset': abs(x-image_w/2),\n",
        "          'y_offset': abs(y-image_h/2),\n",
        "          'bbox': str({'x': x,'y': y,'w': w,'h': h})\n",
        "      }\n",
        "    bboxes_df = pd.DataFrame.from_dict(bboxes, orient='index')\n",
        "    if (bboxes_df['area'].idxmax() == bboxes_df['x_offset'].idxmin() == bboxes_df['y_offset'].idxmin()):\n",
        "      i = bboxes_df['area'].idxmax()\n",
        "      main_bbox = ast.literal_eval(bboxes_df.iloc[[i]]['bbox'].values[0])\n",
        "    elif (bboxes_df['x_offset'].idxmin() == bboxes_df['y_offset'].idxmin()):\n",
        "      i = bboxes_df['x_offset'].idxmin()\n",
        "      main_bbox = ast.literal_eval(bboxes_df.iloc[[i]]['bbox'].values[0])\n",
        "      print(f'{image_id} is a little ambiguous for which is the main WBC. Main bbox chosen based on centering to be:')\n",
        "      print(main_bbox)\n",
        "      omit_count[wbc]['ambiguous']+=1\n",
        "    else:\n",
        "      print(f'{image_id} is omitted. This is too ambiguous to determine.')\n",
        "      omit_count[wbc]['omitted']+=1\n",
        "      return None\n",
        "\n",
        "  # This sets the x bounds and y bounds for cropping\n",
        "  x,y,w,h = int(main_bbox['x']), int(main_bbox['y']), int(main_bbox['w']), int(main_bbox['h'])\n",
        "  w=h=max(w,h) # We want square crops that include the whole WBC\n",
        "  x_i, x_f, y_i, y_f  = x-w/2, x+w/2, y-h/2, y+h/2\n",
        "\n",
        "  # If a square bounding box reaches outside the image, this will shift the limits back into the image\n",
        "  if x_i<0:\n",
        "    x_f = x_f-x_i\n",
        "    x_i = 0\n",
        "  if x_f>image_w:\n",
        "    x_i = x_i-(x_f-image_w)\n",
        "    x_f = image_w\n",
        "  if y_i<0:\n",
        "    y_f = y_f-y_i\n",
        "    y_i = 0\n",
        "  if y_f>image_h:\n",
        "    y_i = y_i-(y_f-image_h)\n",
        "    y_f = image_h\n",
        "\n",
        "  # Crops the image with final dimensions\n",
        "  crop_img=image_array[int(y_i):int(y_f), int(x_i):int(x_f)]\n",
        "  try:\n",
        "    im = PIL.Image.fromarray(crop_img)\n",
        "    im = im.resize((224,224))\n",
        "    return im\n",
        "  except:\n",
        "    print(f'{image_id} was omitted, there was an error cropping.')\n"
      ],
      "metadata": {
        "id": "txKXx_NXG5DV"
      },
      "execution_count": null,
      "outputs": []
    },
    {
      "cell_type": "code",
      "source": [
        "wbc_type = ['basophil', 'eosinophil', 'erythroblast', 'ig', 'lymphocyte', 'monocyte', 'neutrophil', 'platelet']\n",
        "root = '/content/runs/detect/'\n",
        "# For each white blood cell\n",
        "\n",
        "omit_count = {\n",
        "    'basophil': {\n",
        "        'ambiguous': 0,\n",
        "        'omitted': 0\n",
        "        },\n",
        "    'eosinophil':{\n",
        "        'ambiguous': 0,\n",
        "        'omitted': 0\n",
        "        },\n",
        "    'erythroblast':{\n",
        "        'ambiguous': 0,\n",
        "        'omitted': 0\n",
        "        },\n",
        "    'ig':{\n",
        "        'ambiguous': 0,\n",
        "        'omitted': 0\n",
        "        },\n",
        "    'lymphocyte':{\n",
        "        'ambiguous': 0,\n",
        "        'omitted': 0\n",
        "        },\n",
        "    'monocyte':{\n",
        "        'ambiguous': 0,\n",
        "        'omitted': 0\n",
        "        },\n",
        "    'neutrophil':{\n",
        "        'ambiguous': 0,\n",
        "        'omitted': 0\n",
        "        },\n",
        "    'platelet':{\n",
        "        'ambiguous': 0,\n",
        "        'omitted': 0\n",
        "        },\n",
        "}\n",
        "\n",
        "for wbc in wbc_type:\n",
        "  os.makedirs(f'/content/runs/cropped/{wbc}')\n",
        "  path = os.path.join(root, wbc+\"/exp/labels/\")\n",
        "  for filename in os.listdir(path):\n",
        "    with open(os.path.join(root, wbc+\"/exp/labels/\", filename)) as file:\n",
        "      df = pd.read_csv(file, \n",
        "                       delim_whitespace=True, \n",
        "                       header = None,\n",
        "                       names =['category_id', 'x', 'y', 'w', 'h'])\n",
        "      image_id = filename.rstrip('.txt')\n",
        "      df['image_id'] = image_id\n",
        "      bbox_dict = df.to_dict('records')\n",
        "      im = single_crop(bbox_dict, wbc)\n",
        "      if im:\n",
        "        im.save(f'/content/runs/cropped/{wbc}/{image_id}.png') # File naming is {image_id}\n",
        "      else:\n",
        "        print(f'This image was not saved')"
      ],
      "metadata": {
        "id": "Nx8H7GeVF5Ji"
      },
      "execution_count": null,
      "outputs": []
    },
    {
      "cell_type": "code",
      "source": [
        "print(pd.DataFrame.from_dict(omit_count).to_markdown())"
      ],
      "metadata": {
        "id": "CQZZ1YkopHqG"
      },
      "execution_count": null,
      "outputs": []
    },
    {
      "cell_type": "code",
      "source": [
        "!zip -r '/content/runs.zip' '/content/runs'"
      ],
      "metadata": {
        "id": "kFqNRBW67BL9"
      },
      "execution_count": null,
      "outputs": []
    },
    {
      "cell_type": "markdown",
      "source": [
        "## Cropping out Images (Size Considered)\n",
        "\n",
        "Only using images that have 1 WBC inside to avoid ambiguity. "
      ],
      "metadata": {
        "id": "ot0jb1nRfWav"
      }
    },
    {
      "cell_type": "code",
      "source": [
        "rmtree('/content/runs/cropped')"
      ],
      "metadata": {
        "id": "JgT1XBmZkqJk"
      },
      "execution_count": null,
      "outputs": []
    },
    {
      "cell_type": "code",
      "source": [
        "wbc_type = ['basophil', 'eosinophil', 'erythroblast', 'ig', 'lymphocyte', 'monocyte', 'neutrophil', 'platelet']\n",
        "root = '/content/runs/detect/'\n",
        "# For each white blood cell\n",
        "\n",
        "total_wbc = []\n",
        "counter = 0\n",
        "for wbc in wbc_type:\n",
        "  os.makedirs(f'/content/runs/cropped/{wbc}')\n",
        "  path = os.path.join(root, wbc+\"/exp/labels/\")\n",
        "  for filename in os.listdir(path):\n",
        "    with open(os.path.join(root, wbc+\"/exp/labels/\", filename)) as file:\n",
        "      df = pd.read_csv(file, \n",
        "                       delim_whitespace=True, \n",
        "                       header = None,\n",
        "                       names =['category_id', 'x', 'y', 'w', 'h'])\n",
        "      # Pick only detected cells that are WBC\n",
        "      wbc_df = df[df.category_id == 2].copy()\n",
        "      image_id = filename.rstrip('.txt')\n",
        "      wbc_df['image_id'] = image_id\n",
        "      wbc_df['wbc_type'] = wbc\n",
        "      bbox_dict = wbc_df.to_dict('records')\n",
        "      # Omit images that have more than one WBC in it\n",
        "      if wbc_df.shape[0] == 1:\n",
        "        total_wbc = total_wbc + bbox_dict\n",
        "      else:\n",
        "        counter += 1"
      ],
      "metadata": {
        "id": "zhHOaVvSh_oV"
      },
      "execution_count": null,
      "outputs": []
    },
    {
      "cell_type": "markdown",
      "source": [
        "Find maximum bounding box. It seems like al"
      ],
      "metadata": {
        "id": "CxPLH_fVuWSR"
      }
    },
    {
      "cell_type": "code",
      "source": [
        "total_wbc_df = pd.DataFrame(total_wbc)\n",
        "total_wbc_df['x'].idxmax()"
      ],
      "metadata": {
        "colab": {
          "base_uri": "https://localhost:8080/"
        },
        "id": "lJO7SbP0uVYu",
        "outputId": "2572806a-4fca-42ab-996c-aac05a1b2364"
      },
      "execution_count": null,
      "outputs": [
        {
          "output_type": "execute_result",
          "data": {
            "text/plain": [
              "1750"
            ]
          },
          "metadata": {},
          "execution_count": 101
        }
      ]
    },
    {
      "cell_type": "code",
      "source": [
        "total_wbc_df.iloc[1750]"
      ],
      "metadata": {
        "colab": {
          "base_uri": "https://localhost:8080/"
        },
        "id": "fOSKYisavE9p",
        "outputId": "9acc01e3-5260-4b48-b909-40774e497c61"
      },
      "execution_count": null,
      "outputs": [
        {
          "output_type": "execute_result",
          "data": {
            "text/plain": [
              "category_id             2\n",
              "x                0.884722\n",
              "y                0.333333\n",
              "w                   0.225\n",
              "h                0.275482\n",
              "image_id        EO_664204\n",
              "wbc_type       eosinophil\n",
              "Name: 1750, dtype: object"
            ]
          },
          "metadata": {},
          "execution_count": 103
        }
      ]
    },
    {
      "cell_type": "code",
      "source": [
        "total_wbc_df['y'].idxmax()"
      ],
      "metadata": {
        "colab": {
          "base_uri": "https://localhost:8080/"
        },
        "id": "xuFv4vCzu7rF",
        "outputId": "bac38a94-a393-46f9-d329-bb493fa21c58"
      },
      "execution_count": null,
      "outputs": [
        {
          "output_type": "execute_result",
          "data": {
            "text/plain": [
              "10289"
            ]
          },
          "metadata": {},
          "execution_count": 104
        }
      ]
    },
    {
      "cell_type": "code",
      "source": [
        "total_wbc_df.iloc[10289]"
      ],
      "metadata": {
        "colab": {
          "base_uri": "https://localhost:8080/"
        },
        "id": "ul5eff9MvaQI",
        "outputId": "3da23091-dbdf-4d37-84c4-422ac322e90c"
      },
      "execution_count": null,
      "outputs": [
        {
          "output_type": "execute_result",
          "data": {
            "text/plain": [
              "category_id            2\n",
              "x               0.368056\n",
              "y               0.966942\n",
              "w               0.302778\n",
              "h               0.066116\n",
              "image_id       MO_363879\n",
              "wbc_type        monocyte\n",
              "Name: 10289, dtype: object"
            ]
          },
          "metadata": {},
          "execution_count": 105
        }
      ]
    },
    {
      "cell_type": "code",
      "source": [
        "for i, bbox_dict in enumerate(total_wbc):\n",
        "  image_id = total_wbc[i]['image_id']\n",
        "  wbc = total_wbc[i]['wbc_type']\n",
        "  image = PIL.Image.open(f'/content/PBC_dataset_normal_DIB/{wbc}/{image_id}.jpg')\n",
        "  image_array = np.array(image)\n",
        "  crop_img = image_array[0:360, 0:360]\n",
        "  try:\n",
        "    im = PIL.Image.fromarray(crop_img)\n",
        "    im = im.resize((224,224))\n",
        "  except:\n",
        "    print(f'{image_id} was omitted, there was an error cropping.')\n",
        "  if im:\n",
        "    im.save(f'/content/runs/PBC_cropped/{wbc}/{image_id}.png') # File naming is {image_id}\n",
        "  else:\n",
        "    print(f'This image was not saved')"
      ],
      "metadata": {
        "id": "ABeZrJuQtjjr"
      },
      "execution_count": null,
      "outputs": []
    },
    {
      "cell_type": "code",
      "source": [
        "!zip -r '/content/PBC_dataset_nomal_DIB_cropped_224_size_considered.zip' '/content/runs/cropped'"
      ],
      "metadata": {
        "id": "gl9M1VPk5_sj"
      },
      "execution_count": null,
      "outputs": []
    },
    {
      "cell_type": "markdown",
      "source": [
        "## Determine the average size of RBC within the dataset.\n",
        "\n",
        "We use object detection YOLOv5 inference to detect all RBC within the Acevedo dataset. We then take the root mean of the sum of areas of RBC within the dataset."
      ],
      "metadata": {
        "id": "Gy4w60PjbkKz"
      }
    },
    {
      "cell_type": "code",
      "source": [
        "# Runs YOLOv5s and stores all annotations as text\n",
        "wbc_type = ['basophil', 'eosinophil', 'erythroblast', 'ig', 'lymphocyte', 'monocyte', 'neutrophil', 'platelet']\n",
        "for wbc in wbc_type:\n",
        "  !python /content/yolov5/detect.py --source /content/PBC_dataset_normal_DIB/{wbc} --weights \"/content/4-01-2022-artemis.pt\" --save-txt --project runs/detect/{wbc} --classes 1 --nosave --exist-ok"
      ],
      "metadata": {
        "id": "DFVDexG7achS"
      },
      "execution_count": null,
      "outputs": []
    },
    {
      "cell_type": "code",
      "source": [
        "import pandas as pd\n",
        "import math\n",
        "rbc_sizes_acevedo = []\n",
        "root = '/content/runs/detect'\n",
        "\n",
        "image_w = 360\n",
        "image_h = 363\n",
        "\n",
        "for wbc in wbc_type:\n",
        "  path = os.path.join(root, wbc+\"/exp/labels/\")\n",
        "  for filename in os.listdir(path):\n",
        "    with open(os.path.join(root, wbc+\"/exp/labels/\", filename)) as file:\n",
        "      df = pd.read_csv(file, \n",
        "                       delim_whitespace=True, \n",
        "                       header = None,\n",
        "                       names =['category_id', 'x', 'y', 'w', 'h'])\n",
        "      rbc_df = df.loc[df['category_id'] == 1].copy()\n",
        "      rbc_df[\"area\"] = rbc_df[\"w\"] * image_w * rbc_df[\"h\"] * image_h\n",
        "      rbc_sizes_acevedo = rbc_sizes_acevedo + rbc_df[\"area\"].tolist()\n",
        "      "
      ],
      "metadata": {
        "id": "87IlFWS8bsHf"
      },
      "execution_count": null,
      "outputs": []
    },
    {
      "cell_type": "code",
      "source": [
        "sum(rbc_sizes_acevedo)"
      ],
      "metadata": {
        "colab": {
          "base_uri": "https://localhost:8080/"
        },
        "id": "kA4qogb_VOt2",
        "outputId": "0d41de4b-c37f-457f-e486-751c7a8e4b88"
      },
      "execution_count": null,
      "outputs": [
        {
          "output_type": "execute_result",
          "data": {
            "text/plain": [
              "1209201983.423902"
            ]
          },
          "metadata": {},
          "execution_count": 177
        }
      ]
    },
    {
      "cell_type": "code",
      "source": [
        "r1 = math.sqrt(sum(rbc_sizes_acevedo)/len(rbc_sizes_acevedo))"
      ],
      "metadata": {
        "id": "XniauNSUk3nn"
      },
      "execution_count": null,
      "outputs": []
    },
    {
      "cell_type": "code",
      "source": [
        "r1"
      ],
      "metadata": {
        "id": "KTrZSJ_W5aYG",
        "outputId": "6b19acdd-c057-4647-bc74-c969fdb59ea4",
        "colab": {
          "base_uri": "https://localhost:8080/"
        }
      },
      "execution_count": null,
      "outputs": [
        {
          "output_type": "execute_result",
          "data": {
            "text/plain": [
              "68.78754078932712"
            ]
          },
          "metadata": {},
          "execution_count": 181
        }
      ]
    },
    {
      "cell_type": "markdown",
      "source": [
        "It seems like the RBC size distribution is relatively tight, indicating the images in Acevedo dataset are likely all the same in magnification."
      ],
      "metadata": {
        "id": "0OX77KSRljFR"
      }
    },
    {
      "cell_type": "code",
      "source": [
        "plt.hist(np.sqrt(rbc_sizes_acevedo))\n",
        "plt.axvline(r1, color='r')"
      ],
      "metadata": {
        "colab": {
          "base_uri": "https://localhost:8080/",
          "height": 282
        },
        "id": "6q8WrNYakWua",
        "outputId": "85c7e466-3faf-45c8-f7ce-7c16a0c2eecc"
      },
      "execution_count": null,
      "outputs": [
        {
          "output_type": "execute_result",
          "data": {
            "text/plain": [
              "<matplotlib.lines.Line2D at 0x7f7be913b550>"
            ]
          },
          "metadata": {},
          "execution_count": 188
        },
        {
          "output_type": "display_data",
          "data": {
            "image/png": "[encoded data removed]",
            "text/plain": [
              "<Figure size 432x288 with 1 Axes>"
            ]
          },
          "metadata": {
            "needs_background": "light"
          }
        }
      ]
    },
    {
      "cell_type": "code",
      "source": [],
      "metadata": {
        "id": "ZdINBXozNg-i"
      },
      "execution_count": null,
      "outputs": []
    },
    {
      "cell_type": "markdown",
      "source": [
        "## Resizing\n",
        "\n",
        "**DO NOT RUN CODE**\n",
        "\n",
        "This was code that converted all the images to 224 size however that has now been implemented during cropping above."
      ],
      "metadata": {
        "id": "k_Jw-OrfM5e9"
      }
    },
    {
      "cell_type": "code",
      "source": [
        "!unzip '/content/drive/MyDrive/Colab Notebooks/BCCD_cropped_wbc_classified_test_set.zip'"
      ],
      "metadata": {
        "id": "rTB3r3iCDQUM"
      },
      "execution_count": null,
      "outputs": []
    },
    {
      "cell_type": "code",
      "source": [
        "import os\n",
        "from PIL import Image\n",
        "from tqdm import tqdm\n",
        "search_directory = '/content/BCCD_cropped_wbc_classified_test_set'\n",
        "image_files = []\n",
        "for root, dirs, files in os.walk(search_directory):\n",
        "  for file in tqdm(files):\n",
        "    if (file.endswith(\".png\") or file.endswith('.PNG')):\n",
        "      im = Image.open(os.path.join(root, file))\n",
        "      im_resized = im.resize((224,224))\n",
        "      im_resized.save(os.path.join(root, file))\n"
      ],
      "metadata": {
        "id": "ZoTcHRk9EBee",
        "colab": {
          "base_uri": "https://localhost:8080/"
        },
        "outputId": "8817d50f-4a94-485a-a545-aa481449c8b5"
      },
      "execution_count": null,
      "outputs": [
        {
          "output_type": "stream",
          "name": "stderr",
          "text": [
            "0it [00:00, ?it/s]\n",
            "100%|██████████| 257/257 [00:07<00:00, 32.18it/s]\n",
            "100%|██████████| 2/2 [00:00<00:00, 26.65it/s]\n",
            "100%|██████████| 36/36 [00:00<00:00, 40.84it/s]\n",
            "100%|██████████| 57/57 [00:01<00:00, 31.29it/s]\n",
            "100%|██████████| 21/21 [00:00<00:00, 30.57it/s]\n"
          ]
        }
      ]
    },
    {
      "cell_type": "code",
      "source": [
        "!zip -r '/content/BCCD_cropped_wbc_classified_test_set.zip' '/content/BCCD_cropped_wbc_classified_test_set'"
      ],
      "metadata": {
        "id": "QztxeN2SL-ti"
      },
      "execution_count": null,
      "outputs": []
    },
    {
      "cell_type": "code",
      "source": [
        "!cp /content/PBC_dataset_nomal_DIB_cropped_224_size_considered.zip /content/drive/MyDrive/Colab\\ Notebooks"
      ],
      "metadata": {
        "id": "QehX-m0CMjZE"
      },
      "execution_count": null,
      "outputs": []
    },
    {
      "cell_type": "markdown",
      "source": [
        "# Crop out WBC from Blood Films"
      ],
      "metadata": {
        "id": "xDBv161WANsX"
      }
    },
    {
      "cell_type": "code",
      "source": [
        "# Runs YOLOv5s and stores all annotations as text\n",
        "source_path = '/content/Blood_Film_Cases'\n",
        "save_path = '/content/yolov5/runs/detect/'\n",
        "cases = next(os.walk(source_path))[1]\n",
        "\n",
        "#for root, path, files in os.walk(image_path):\n",
        "#  print(root, path, file)\n",
        "for case in cases:\n",
        "  image_path = os.path.join(source_path, case, '40x')\n",
        "  label_path = os.path.join(save_path, case)\n",
        "  !python /content/yolov5/detect.py --source {image_path} --weights \"/content/4-01-2022-artemis.pt\" --save-txt --project {label_path} --classes 2 --nosave --exist-ok"
      ],
      "metadata": {
        "id": "MGJAUw0YKllU"
      },
      "execution_count": null,
      "outputs": []
    },
    {
      "cell_type": "markdown",
      "source": [
        "# Crop out WBC from RPA Blood Films\n"
      ],
      "metadata": {
        "id": "07ziOtaLgg9A"
      }
    },
    {
      "cell_type": "markdown",
      "source": [
        "## Determine the average size of RBC within the dataset."
      ],
      "metadata": {
        "id": "3gvszaYG34cD"
      }
    },
    {
      "cell_type": "markdown",
      "source": [
        "Here we are finding the average size of RBC in these custom RPA blood films (R2). Earlier we found the average size of RBC in the training data (R1). Using both, we can figure out the ratio of RBC sizes i.e. R2/R1. "
      ],
      "metadata": {
        "id": "dhZ3btCIkUdw"
      }
    },
    {
      "cell_type": "code",
      "source": [
        "from shutil import rmtree\n",
        "rmtree('/content/Output')"
      ],
      "metadata": {
        "id": "vIUdruGab4AY"
      },
      "execution_count": null,
      "outputs": []
    },
    {
      "cell_type": "code",
      "source": [
        "!unzip  '/content/drive/MyDrive/Colab Notebooks/RPA Blood Film Labels (Crude Labels).zip'"
      ],
      "metadata": {
        "id": "h53UlD62aTbH"
      },
      "execution_count": null,
      "outputs": []
    },
    {
      "cell_type": "code",
      "source": [
        "file_path = '/content/RPA Blood Film Labels (Crude Labels)'\n",
        "\n",
        "rbc_sizes_RPA = []\n",
        "\n",
        "image_w = 2448\n",
        "image_h = 1920\n",
        "\n",
        "for filename in os.listdir(file_path):\n",
        "  with open(os.path.join(file_path, filename)) as file:\n",
        "    df = pd.read_csv(file, \n",
        "      delim_whitespace=True, \n",
        "      header = None,\n",
        "      names =['category_id', 'x', 'y', 'w', 'h'])\n",
        "    rbc_df = df.loc[df['category_id'] == 2].copy()\n",
        "    rbc_df[\"area\"] = rbc_df[\"w\"] * image_w * rbc_df[\"h\"] * image_h\n",
        "    rbc_sizes_RPA = rbc_sizes_RPA + rbc_df[\"area\"].tolist()"
      ],
      "metadata": {
        "id": "oqMrF1a3glng"
      },
      "execution_count": null,
      "outputs": []
    },
    {
      "cell_type": "code",
      "source": [
        "sum(rbc_sizes_RPA)"
      ],
      "metadata": {
        "id": "IrlMJkcLkSMK",
        "colab": {
          "base_uri": "https://localhost:8080/"
        },
        "outputId": "7429b76d-4588-43c9-b4b2-5607507b6f32"
      },
      "execution_count": null,
      "outputs": [
        {
          "output_type": "execute_result",
          "data": {
            "text/plain": [
              "22570615.887289412"
            ]
          },
          "metadata": {},
          "execution_count": 184
        }
      ]
    },
    {
      "cell_type": "code",
      "source": [
        "r2 = math.sqrt(sum(rbc_sizes_RPA)/len(rbc_sizes_RPA))"
      ],
      "metadata": {
        "id": "YvUpfMjTlawt"
      },
      "execution_count": null,
      "outputs": []
    },
    {
      "cell_type": "code",
      "source": [
        "r2"
      ],
      "metadata": {
        "colab": {
          "base_uri": "https://localhost:8080/"
        },
        "id": "GsAqp4u0eybB",
        "outputId": "0c77dcea-5499-4113-c116-410bb453b258"
      },
      "execution_count": null,
      "outputs": [
        {
          "output_type": "execute_result",
          "data": {
            "text/plain": [
              "137.6625545113873"
            ]
          },
          "metadata": {},
          "execution_count": 186
        }
      ]
    },
    {
      "cell_type": "markdown",
      "source": [
        "It seems like the RBC size distribution is relatively tight, indicating the images in RPA dataset are likely all the same in magnification."
      ],
      "metadata": {
        "id": "Kea0Ques64qq"
      }
    },
    {
      "cell_type": "code",
      "source": [
        "plt.hist(np.sqrt(rbc_sizes_RPA))\n",
        "plt.axvline(r2, color='r')"
      ],
      "metadata": {
        "colab": {
          "base_uri": "https://localhost:8080/",
          "height": 282
        },
        "id": "uDWpBnqh6tJU",
        "outputId": "c56755b7-0937-4b3f-9d7d-0cee274d50af"
      },
      "execution_count": null,
      "outputs": [
        {
          "output_type": "execute_result",
          "data": {
            "text/plain": [
              "<matplotlib.lines.Line2D at 0x7f7beae6fe50>"
            ]
          },
          "metadata": {},
          "execution_count": 187
        },
        {
          "output_type": "display_data",
          "data": {
            "image/png": "[encoded data removed]",
            "text/plain": [
              "<Figure size 432x288 with 1 Axes>"
            ]
          },
          "metadata": {
            "needs_background": "light"
          }
        }
      ]
    },
    {
      "cell_type": "markdown",
      "source": [
        "Ratio of RBC Sizes"
      ],
      "metadata": {
        "id": "NIHo21vge2ms"
      }
    },
    {
      "cell_type": "code",
      "source": [
        "rbc_ratio = r2/r1\n",
        "rbc_ratio"
      ],
      "metadata": {
        "colab": {
          "base_uri": "https://localhost:8080/"
        },
        "id": "-VGWDrrre7Lj",
        "outputId": "28c9f97f-5bdf-48e5-a67d-54af6bbf0853"
      },
      "execution_count": null,
      "outputs": [
        {
          "output_type": "execute_result",
          "data": {
            "text/plain": [
              "2.0012716391911867"
            ]
          },
          "metadata": {},
          "execution_count": 189
        }
      ]
    },
    {
      "cell_type": "markdown",
      "source": [
        "## Cropping out Images (Size Considered)"
      ],
      "metadata": {
        "id": "DV6THoTV39yt"
      }
    },
    {
      "cell_type": "markdown",
      "source": [
        "The original cropping size for images used in training the classifier was 360px by 360 px. The r1 i.e. average root-mean RBC Area in Acevedo dataset is `r1 = 0.1902852917455713` "
      ],
      "metadata": {
        "id": "z44qhLj-4DmK"
      }
    },
    {
      "cell_type": "code",
      "source": [
        "crop_length = math.sqrt(rbc_ratio*360*360)"
      ],
      "metadata": {
        "id": "amhaxmBr5dfI"
      },
      "execution_count": null,
      "outputs": []
    },
    {
      "cell_type": "code",
      "source": [
        "crop_length"
      ],
      "metadata": {
        "colab": {
          "base_uri": "https://localhost:8080/"
        },
        "id": "1HbNYW03MUbc",
        "outputId": "9b2bb2d6-b492-4639-f72d-8fd50d521797"
      },
      "execution_count": null,
      "outputs": [
        {
          "output_type": "execute_result",
          "data": {
            "text/plain": [
              "509.27870998027964"
            ]
          },
          "metadata": {},
          "execution_count": 197
        }
      ]
    },
    {
      "cell_type": "markdown",
      "source": [
        "Manually modify to 350 to fit size."
      ],
      "metadata": {
        "id": "Zhf2cp2lSDXg"
      }
    },
    {
      "cell_type": "code",
      "source": [
        "crop_length = 350"
      ],
      "metadata": {
        "id": "_uSyImqLQcMR"
      },
      "execution_count": null,
      "outputs": []
    },
    {
      "cell_type": "code",
      "source": [
        "!unzip '/content/drive/MyDrive/Colab Notebooks/RPA Blood Film Labels (Specific Labels).zip'"
      ],
      "metadata": {
        "id": "OpmK-oC48H7-"
      },
      "execution_count": null,
      "outputs": []
    },
    {
      "cell_type": "code",
      "source": [
        "!unzip '/content/drive/MyDrive/Colab Notebooks/RPA Blood Film Images.zip'"
      ],
      "metadata": {
        "id": "MwjhLtiaAOAy"
      },
      "execution_count": null,
      "outputs": []
    },
    {
      "cell_type": "code",
      "source": [
        "rmtree('/content/runs/RPA_cropped')"
      ],
      "metadata": {
        "id": "Fo4snVexGZLl"
      },
      "execution_count": null,
      "outputs": []
    },
    {
      "cell_type": "code",
      "source": [
        "label_file_path = '/content/RPA Blood Film Labels (Specific Labels)'\n",
        "image_file_path = '/content/RPA Blood Film Images'\n",
        "\n",
        "wbc_names = {\n",
        "    0: 'platelet',\n",
        "    1: 'rbc',\n",
        "    2: 'neutrophil',\n",
        "    3: 'eosinophil',\n",
        "    4: 'lymphocyte',\n",
        "    5: 'monocyte',\n",
        "    6: 'basophil',\n",
        "    7: 'myelocyte',\n",
        "    8: 'promyelocyte',\n",
        "    9: 'blast',\n",
        "    10: 'erythroblast'\n",
        "}\n",
        "\n",
        "total_wbc = []\n",
        "\n",
        "os.makedirs('/content/runs/RPA_cropped/')\n",
        "for value in wbc_names.values():\n",
        "  os.makedirs(f'/content/runs/RPA_cropped/{value}')\n",
        "\n",
        "for filename in os.listdir(label_file_path):\n",
        "  with open(os.path.join(label_file_path, filename)) as file:\n",
        "    df = pd.read_csv(file, \n",
        "      delim_whitespace=True, \n",
        "      header = None,\n",
        "      names =['category_id', 'x', 'y', 'w', 'h'])\n",
        "    image_id = filename.rstrip('.txt')\n",
        "    wbc_df = df.loc[df['category_id'] != 1].copy()\n",
        "    bbox_dict = wbc_df.to_dict('records')\n",
        "\n",
        "\n",
        "    # Open image to crop\n",
        "    image = PIL.Image.open(os.path.join(image_file_path, f'{image_id}.jpg'))\n",
        "    image_w, image_h = image.size\n",
        "    image_array = np.array(image)\n",
        "\n",
        "    for i, bbox in enumerate(bbox_dict):\n",
        "      x, y = int(bbox['x']*image_w), int(bbox['y']*image_h)\n",
        "      category_id = bbox['category_id']\n",
        "      # Crop using adjusted crop size based on RBC ratio\n",
        "      x_i, x_f, y_i, y_f  = x-crop_length/2, x+crop_length/2, y-crop_length/2, y+crop_length/2\n",
        "      crop_img = image_array[int(y_i):int(y_f), int(x_i):int(x_f)]\n",
        "      try:\n",
        "        im = PIL.Image.fromarray(crop_img)\n",
        "        im = im.resize((224,224))\n",
        "        if im:\n",
        "            im.save(f'/content/runs/RPA_cropped/{wbc_names[category_id]}/{image_id}_{i}.png') # File naming is {image_id}_{i} where i is WBC in image\n",
        "      except:\n",
        "        print(f'Can\\'t crop WBC {i} from image with image_id {image_id}')"
      ],
      "metadata": {
        "id": "GKlNx3q67XQq"
      },
      "execution_count": null,
      "outputs": []
    },
    {
      "cell_type": "code",
      "source": [
        "!zip -r '/content/RPA_cropped_wbc_classified.zip' '/content/runs/RPA_cropped'"
      ],
      "metadata": {
        "id": "gHOKfAQHS62l"
      },
      "execution_count": null,
      "outputs": []
    },
    {
      "cell_type": "code",
      "source": [
        "!cp /content/RPA_cropped_wbc_classified.zip /content/drive/MyDrive/Colab\\ Notebooks"
      ],
      "metadata": {
        "id": "eHwpx8RSTJPz"
      },
      "execution_count": null,
      "outputs": []
    }
  ]
}